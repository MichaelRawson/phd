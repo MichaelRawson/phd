{
 "cells": [
  {
   "cell_type": "code",
   "execution_count": 1,
   "metadata": {
    "collapsed": false
   },
   "outputs": [],
   "source": [
    "import os\n",
    "from glob import glob\n",
    "import re\n",
    "from collections import defaultdict, OrderedDict\n",
    "\n",
    "PROOF_DIR = os.path.expanduser('~/theory-proofs')\n",
    "LINE_PATTERN = re.compile(r'^(\\d+). (.+) \\[([^0-9]*)([0-9,]*)\\]$')\n",
    "VAR_PATTERN = re.compile(r'(X\\d+)([^0-9]|$)')\n",
    "\n",
    "def proof_paths():\n",
    "    return glob(PROOF_DIR + '/*.proof')\n",
    "\n",
    "def clean_formula(formula):\n",
    "    formula = formula.replace(\"(TD)\", \"\").strip()\n",
    "    var_map = {'next': 0}\n",
    "\n",
    "    def sub_var(match):\n",
    "        digits, rest = match.groups()\n",
    "        n = int(digits[1:])\n",
    "        if n not in var_map:\n",
    "            var_map[n] = var_map['next']\n",
    "            var_map['next'] += 1\n",
    "        return \"Y{}{}\".format(var_map[n], rest)\n",
    "\n",
    "    return VAR_PATTERN.subn(sub_var, formula)[0]\n",
    "\n",
    "def parse_proof(proof):\n",
    "    result = OrderedDict()\n",
    "\n",
    "    for line in proof.split('\\n'):\n",
    "        match = LINE_PATTERN.match(line)\n",
    "        if match:\n",
    "            index, formula, inference, parents = match.groups()\n",
    "            parents = [int(parent) for parent in parents.split(',')] if parents else []\n",
    "            result[int(index)] = (clean_formula(formula), inference.strip(), parents)\n",
    "    return result\n",
    "\n",
    "def theory_results(proof):\n",
    "    axioms = {}\n",
    "    lemmas = {}\n",
    "    for key, (formula, inference, parents) in proof.items():\n",
    "        if inference == 'theory axiom':\n",
    "            axioms[key] = formula\n",
    "        elif parents and all(parent in axioms or parent in lemmas for parent in parents):\n",
    "            lemmas[key] = formula\n",
    "    return (set(axioms.values()), set(lemmas.values()))"
   ]
  },
  {
   "cell_type": "code",
   "execution_count": 26,
   "metadata": {
    "collapsed": false
   },
   "outputs": [
    {
     "name": "stdout",
     "output_type": "stream",
     "text": [
      "19344 proofs available.\n"
     ]
    }
   ],
   "source": [
    "print(\"{} proofs available.\".format(len(proof_paths())))"
   ]
  },
  {
   "cell_type": "code",
   "execution_count": 27,
   "metadata": {
    "collapsed": false,
    "scrolled": false
   },
   "outputs": [],
   "source": [
    "problem_axioms = defaultdict(list)\n",
    "problem_lemmas = defaultdict(list)\n",
    "\n",
    "axiom_counts = defaultdict(lambda: 0)\n",
    "lemma_counts = defaultdict(lambda: 0)\n",
    "\n",
    "for path in proof_paths():\n",
    "    with open(path, 'r') as f:\n",
    "        problem = os.path.basename(os.path.splitext(path)[0])\n",
    "        axioms, lemmas = theory_results(parse_proof(f.read()))\n",
    "        for axiom in axioms:\n",
    "            problem_axioms[problem].append(axiom)\n",
    "            axiom_counts[axiom] += 1\n",
    "        for lemma in lemmas:\n",
    "            problem_lemmas[problem].append(lemma)\n",
    "            lemma_counts[lemma] += 1"
   ]
  },
  {
   "cell_type": "code",
   "execution_count": 28,
   "metadata": {
    "collapsed": false,
    "scrolled": true
   },
   "outputs": [
    {
     "name": "stdout",
     "output_type": "stream",
     "text": [
      "Count\tAxiom\n",
      "\n",
      "1711\t$less(Y0,Y1) | $less(Y1,Y0) | Y1 = Y0\n",
      "1425\t~$less(Y0,Y0)\n",
      "1104\t~$less(Y0,Y1) | ~$less(Y2,Y0) | $less(Y2,Y1)\n",
      "672\t$less(Y0,$sum(Y1,1)) | $less(Y1,Y0)\n",
      "390\t$sum(Y0,Y1) = $sum(Y1,Y0)\n",
      "117\t0 = $sum(Y0,$uminus(Y0))\n",
      "106\t$sum(Y0,0) = Y0\n",
      "100\t~$less(Y0,$sum(Y1,1)) | ~$less(Y1,Y0)\n",
      "84\t$select($store(Y0,Y1,Y2),Y1) = Y2\n",
      "63\t$select(Y0,Y1) = $select($store(Y0,Y2,Y3),Y1) | Y2 = Y1\n",
      "51\t$uminus($uminus(Y0)) = Y0\n",
      "49\t$less($sum(Y0,Y1),$sum(Y2,Y1)) | ~$less(Y0,Y2)\n",
      "48\t$sum(Y0,$sum(Y1,Y2)) = $sum($sum(Y0,Y1),Y2)\n",
      "28\t~$less(Y0,Y1) | ~$less(Y1,Y2) | $less(Y0,Y2)\n",
      "28\t$product(Y0,Y1) = $product(Y1,Y0)\n",
      "26\t$less(Y0,$sum(Y1,1.0)) | $less(Y1,Y0)\n",
      "21\t$less(Y0,Y1) | $less(Y1,Y0) | Y0 = Y1\n",
      "16\t$less(Y0,$sum(Y1,1/1)) | $less(Y1,Y0)\n",
      "16\t$less(Y0,Y1) | $less(Y1,$sum(Y0,1))\n",
      "15\t~$less(Y0,Y1) | $less($sum(Y0,Y2),$sum(Y1,Y2))\n",
      "14\t$sum(Y0,$uminus(Y0)) = 0\n",
      "12\t~$less(Y0,Y1) | ~$less(Y1,$sum(Y0,1))\n",
      "11\t0.0 = $sum(Y0,$uminus(Y0))\n",
      "8\t$product(Y0,1) = Y0\n",
      "8\t0/1 = $sum(Y0,$uminus(Y0))\n",
      "5\tY0 = Y1 | $select(Y2,Y1) = $select($store(Y2,Y0,Y3),Y1)\n",
      "5\t$sum(Y0,$uminus(Y0)) = 0.0\n",
      "4\t~$less($ceiling(Y0),Y0)\n",
      "3\t$sum(Y0,$uminus(Y0)) = 0/1\n",
      "2\t$product(Y0,1.0) = Y0\n",
      "2\t$product(Y0,1/1) = Y0\n",
      "2\t$sum(Y0,0.0) = Y0\n",
      "2\t$product(Y0,0/1) = 0/1\n",
      "2\t$sum($product(Y0,Y1),$product(Y0,Y2)) = $product(Y0,$sum(Y1,Y2))\n",
      "2\t$product(Y0,0.0) = 0.0\n",
      "2\t~$less(Y0,$floor(Y0))\n",
      "2\t$uminus($sum(Y0,Y1)) = $sum($uminus(Y1),$uminus(Y0))\n",
      "1\t0 = $product(Y0,0)\n",
      "1\t$less($sum(Y0,$uminus(1.0)),$floor(Y0))\n",
      "1\t$product(Y0,0) = 0\n",
      "1\t$sum(Y0,0/1) = Y0\n",
      "1\t$sum($uminus(Y0),$uminus(Y1)) = $uminus($sum(Y1,Y0))\n",
      "1\t$product(Y0,$sum(Y1,Y2)) = $sum($product(Y0,Y1),$product(Y0,Y2))\n",
      "1\t$product(Y0,$product(Y1,Y2)) = $product($product(Y0,Y1),Y2)\n",
      "\n",
      "\n",
      "---------------------\n",
      "\n",
      "\n",
      "Count\tLemma\n",
      "\n",
      "16\t$sum(Y0,$sum($uminus(Y0),Y1)) = Y1\n",
      "15\t0 = $sum($uminus(Y0),Y0)\n",
      "15\t$less(Y0,0) | $less(-1,Y0)\n",
      "15\t$less(Y0,0) | $less($uminus(1),Y0)\n",
      "10\t$less(Y0,$sum(Y0,1))\n",
      "10\t$sum(0,Y0) = $sum(Y1,$sum($uminus(Y1),Y0))\n",
      "9\t$less(Y0,0.0) | $less($uminus(1.0),Y0)\n",
      "9\t$less(Y0,0.0) | $less(-1.0,Y0)\n",
      "8\t$less($sum($uminus(1),Y0),Y0)\n",
      "8\t$less(Y0,$sum(1,Y0))\n",
      "8\t$less($sum(-1,Y0),Y0)\n",
      "8\t~$less(Y0,0) | ~$less($uminus(1),Y0)\n",
      "8\t~$less(-1,Y0) | ~$less(Y0,0)\n",
      "8\t0.0 = $sum($uminus(Y0),Y0)\n",
      "7\t$less(Y0,$sum(Y0,1.0))\n",
      "6\t$less(Y0,$sum(1,Y1)) | $less(Y1,Y0)\n",
      "6\t0/1 = $sum($uminus(Y0),Y0)\n",
      "6\t$less(Y0,0/1) | $less(-1/1,Y0)\n",
      "6\t$less(Y0,0/1) | $less($uminus(1/1),Y0)\n",
      "6\t~$less(Y0,$sum(1,Y1)) | ~$less(Y1,Y0)\n",
      "6\t$less(Y0,1) | $less(0,Y0)\n",
      "5\t~$less(0,Y0) | ~$less(Y0,1)\n",
      "4\t$less($sum(Y0,-1),Y0)\n",
      "3\t$sum($uminus(Y0),Y0) = 0.0\n",
      "3\t$less(Y0,$sum(Y1,1)) | ~$less(Y0,Y1)\n",
      "3\t$less($sum($uminus(1/1),Y0),Y0)\n",
      "3\t$less($sum(-1.0,Y0),Y0)\n",
      "3\t$less(Y0,$sum(1.0,Y0))\n",
      "3\t$less(Y0,$sum(Y0,1/1))\n",
      "3\t$sum(0.0,Y0) = $sum(Y1,$sum($uminus(Y1),Y0))\n",
      "3\t~$less($sum(Y0,1.0),Y0)\n",
      "3\t$less(Y0,$ceiling($sum(Y0,1.0)))\n",
      "3\t$less(Y0,$sum(1/1,Y0))\n",
      "3\t$sum(0/1,Y0) = $sum(Y1,$sum($uminus(Y1),Y0))\n",
      "3\t$less($sum(-1/1,Y0),Y0)\n",
      "3\t$less($sum($uminus(1.0),Y0),Y0)\n",
      "3\t$less(Y0,$sum(Y1,1.0)) | ~$less(Y0,Y1)\n",
      "2\t~$less($sum($sum(Y0,1.0),1.0),Y0)\n",
      "2\t~$less(Y0,Y1) | ~$less(Y1,Y0)\n",
      "2\t~$less($sum(1.0,$sum(Y0,1.0)),Y0)\n",
      "2\t$less($sum(Y0,Y1),$sum(Y1,Y2)) | ~$less(Y0,Y2)\n",
      "2\t$sum(Y0,$sum(Y1,Y2)) = $sum(Y2,$sum(Y0,Y1))\n",
      "1\t~$less($sum(Y0,$sum(1,1)),Y0)\n",
      "1\t~$less($sum(Y0,1),Y0)\n",
      "1\t~$less($sum($sum(Y0,1),1),Y0)\n",
      "1\t$sum(Y0,$sum(Y1,$sum(Y2,Y3))) = $sum(Y1,$sum(Y3,$sum(Y2,Y0)))\n",
      "1\t$less(Y0,$ceiling(Y0)) | $ceiling(Y0) = Y0\n",
      "1\t$sum(Y0,Y0) = $product(Y0,$sum(1,1))\n",
      "1\t$sum(Y0,$product(Y0,Y1)) = $product(Y0,$sum(1,Y1))\n",
      "1\t~$less($uminus(Y0),0) | ~$less(Y0,1)\n",
      "1\t$less(Y0,$sum($sum(Y0,1.0),1.0))\n",
      "1\t$sum(Y0,$sum(Y1,Y2)) = $sum($sum(Y1,Y0),Y2)\n",
      "1\t~$less($sum(-1,Y0),Y1) | ~$less(Y1,Y0)\n",
      "1\t~$less(Y0,Y1) | ~$less($sum($uminus(1),Y1),Y0)\n",
      "1\t~$less($sum(1,$sum(Y0,1)),Y0)\n",
      "1\t$less($sum(Y0,$uminus(3)),Y0)\n",
      "1\t$sum(Y0,Y1) = $sum(Y2,$sum(Y1,$sum($uminus(Y2),Y0)))\n",
      "1\t$sum($uminus(Y0),Y0) = 0/1\n",
      "1\t$less(0,$sum(Y0,$uminus(Y1))) | ~$less(Y1,Y0)\n",
      "1\t$less($sum(Y0,Y1),Y1) | ~$less(Y0,0/1)\n",
      "1\t$less($sum(Y0,Y1),Y1) | ~$less(Y0,0.0)\n",
      "1\t~$less(Y0,Y1) | $less(Y0,$sum(Y2,1)) | $less(Y2,Y1)\n",
      "1\t$less($sum(Y0,Y1),$sum($sum(Y2,1),Y1)) | $less(Y2,Y0)\n",
      "1\t$sum(Y0,Y0) = $product(Y0,2)\n",
      "1\t$less($sum(Y0,-3),Y0)\n",
      "1\t$less(Y0,$sum(1.0,$sum(Y0,1.0)))\n",
      "1\t$less($sum(Y0,Y1),$sum(Y2,$sum(1,Y1))) | $less(Y2,Y0)\n",
      "1\t$less(Y0,$sum(Y0,$sum(1,2)))\n",
      "1\t~$less($sum(Y0,2),Y0)\n",
      "1\t$sum(Y0,$sum(Y1,$uminus(Y0))) = Y1\n",
      "1\t$less(Y0,$sum(Y0,3))\n",
      "1\t$less(Y0,$sum(3,Y0))\n"
     ]
    }
   ],
   "source": [
    "print(\"Count\\tAxiom\\n\")\n",
    "for axiom, count in sorted(axiom_counts.items(), key=lambda x: x[1], reverse=True):\n",
    "    print(\"{}\\t{}\".format(count, axiom))\n",
    "\n",
    "print(\"\\n\\n---------------------\\n\\n\")\n",
    "\n",
    "print(\"Count\\tLemma\\n\")\n",
    "for lemma, count in sorted(lemma_counts.items(), key=lambda x: x[1], reverse=True):\n",
    "    print(\"{}\\t{}\".format(count, lemma))"
   ]
  },
  {
   "cell_type": "code",
   "execution_count": 29,
   "metadata": {
    "collapsed": false
   },
   "outputs": [],
   "source": [
    "%matplotlib inline\n",
    "import numpy as np\n",
    "import matplotlib.pyplot as plt\n",
    "from matplotlib.patches import Patch"
   ]
  },
  {
   "cell_type": "code",
   "execution_count": 30,
   "metadata": {
    "collapsed": false
   },
   "outputs": [
    {
     "data": {
      "image/png": "[encoded data removed]",
      "text/plain": [
       "<matplotlib.figure.Figure at 0x7f2f914036a0>"
      ]
     },
     "metadata": {},
     "output_type": "display_data"
    }
   ],
   "source": [
    "data = list((f, 'blue' if islemma else 'red') for f, islemma in sorted(\n",
    "    [(a, False) for a in axiom_counts.values()] + [(l, True) for l in lemma_counts.values()]\n",
    "))\n",
    "frequencies, colours = zip(*data)\n",
    "\n",
    "plt.figure(figsize=(15, 7))\n",
    "plt.title('ocurrences of theory result re-use')\n",
    "plt.bar(np.arange(len(data)), frequencies, 0.4, color=colours)\n",
    "plt.autoscale(enable=True, axis='x', tight=True)\n",
    "plt.tick_params(\n",
    "    axis='x',\n",
    "    which='both',\n",
    "    bottom='off',\n",
    "    labelbottom='off'\n",
    ")\n",
    "plt.ylabel('occurrences in Vampire proofs')\n",
    "ax_patch = Patch(color='red', label='Axioms')\n",
    "lem_patch = Patch(color='blue', label='Lemmas')\n",
    "plt.legend(handles=[ax_patch, lem_patch], loc=2)\n",
    "plt.show()"
   ]
  }
 ],
 "metadata": {
  "kernelspec": {
   "display_name": "Python 3",
   "language": "python",
   "name": "python3"
  },
  "language_info": {
   "codemirror_mode": {
    "name": "ipython",
    "version": 3
   },
   "file_extension": ".py",
   "mimetype": "text/x-python",
   "name": "python",
   "nbconvert_exporter": "python",
   "pygments_lexer": "ipython3",
   "version": "3.5.3"
  }
 },
 "nbformat": 4,
 "nbformat_minor": 2
}
